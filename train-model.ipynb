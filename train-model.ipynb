{
 "cells": [
  {
   "cell_type": "code",
   "execution_count": 5,
   "id": "d78c4e0c-4f5b-4724-9a2f-76235b7166b1",
   "metadata": {},
   "outputs": [],
   "source": [
    "import pandas as pd\n",
    "import numpy as np\n",
    "\n",
    "\n",
    "\n",
    "from sklearn.feature_extraction.text import CountVectorizer\n",
    "from sklearn.feature_extraction import DictVectorizer\n",
    "\n"
   ]
  },
  {
   "cell_type": "code",
   "execution_count": 7,
   "id": "5d1985f9-a6f3-4ef0-8a5b-31623f2c9204",
   "metadata": {},
   "outputs": [
    {
     "data": {
      "text/plain": [
       "index     int64\n",
       "name     object\n",
       "sex      object\n",
       "dtype: object"
      ]
     },
     "execution_count": 7,
     "metadata": {},
     "output_type": "execute_result"
    }
   ],
   "source": [
    "df = pd.read_csv('/data/ds-streamlit/dataset.csv')\n",
    "df.size\n",
    "df.dtypes"
   ]
  },
  {
   "cell_type": "code",
   "execution_count": 8,
   "id": "ef9faa10-6675-4e99-8d59-38d351de7637",
   "metadata": {},
   "outputs": [],
   "source": [
    "df.isnull().isnull().sum()\n",
    "\n",
    "df[df.sex == 'F'].size\n",
    "df[df.sex == 'M'].size\n",
    "df_names = df"
   ]
  },
  {
   "cell_type": "code",
   "execution_count": 9,
   "id": "707de18a-3357-4a0d-b843-a634626105ab",
   "metadata": {},
   "outputs": [],
   "source": [
    "df_names.sex.replace({'F':0,'M':1},inplace=True)\n",
    "Xfeatures =df_names['name']"
   ]
  },
  {
   "cell_type": "code",
   "execution_count": 10,
   "id": "ebf445b4-9f25-4af1-bad2-baa9b4ae75b3",
   "metadata": {},
   "outputs": [],
   "source": [
    "cv = CountVectorizer()\n",
    "X = cv.fit_transform(Xfeatures)"
   ]
  },
  {
   "cell_type": "code",
   "execution_count": 12,
   "id": "5229dea9-71ee-452c-acf4-3908e73e0ef5",
   "metadata": {},
   "outputs": [],
   "source": [
    "from sklearn.model_selection import train_test_split"
   ]
  },
  {
   "cell_type": "code",
   "execution_count": 13,
   "id": "9ed1b0e8-105f-46b7-b826-6154df80dc51",
   "metadata": {},
   "outputs": [],
   "source": [
    "X\n",
    "y = df_names.sex\n",
    "X_train, X_test, y_train, y_test = train_test_split(X, y, test_size=0.25)"
   ]
  },
  {
   "cell_type": "code",
   "execution_count": 15,
   "id": "c4ef6f48-9988-4ab2-8041-7a5b2179b81a",
   "metadata": {},
   "outputs": [
    {
     "data": {
      "text/plain": [
       "0.6378330597297639"
      ]
     },
     "execution_count": 15,
     "metadata": {},
     "output_type": "execute_result"
    }
   ],
   "source": [
    "from sklearn.naive_bayes import MultinomialNB \n",
    "clf = MultinomialNB()\n",
    "clf.fit(X_train,y_train)\n",
    "clf.score(X_test,y_test)"
   ]
  },
  {
   "cell_type": "code",
   "execution_count": 16,
   "id": "30ebe839-4bef-4270-abce-7a25d0c7667f",
   "metadata": {},
   "outputs": [],
   "source": [
    "def predict(a):\n",
    "    test_name = [a]\n",
    "    vector = cv.transform(test_name).toarray()\n",
    "    if clf.predict(vector) == 0:\n",
    "        print(\"Female\")\n",
    "    else:\n",
    "        print(\"Male\")"
   ]
  },
  {
   "cell_type": "code",
   "execution_count": 20,
   "id": "75503ac7-eb2a-442f-a0be-f6861049eeb1",
   "metadata": {},
   "outputs": [],
   "source": [
    "import joblib\n",
    "\n",
    "naiveBayesModel = open(\"/cnvrg/naivemodel.pkl\",\"wb\")\n",
    "joblib.dump(clf,naiveBayesModel)\n",
    "naiveBayesModel.close()"
   ]
  },
  {
   "cell_type": "code",
   "execution_count": null,
   "id": "07d0fa2c-2af4-48ab-a59f-9a50f2a51fa2",
   "metadata": {},
   "outputs": [],
   "source": []
  }
 ],
 "metadata": {
  "kernelspec": {
   "display_name": "Python 3",
   "language": "python",
   "name": "python3"
  },
  "language_info": {
   "codemirror_mode": {
    "name": "ipython",
    "version": 3
   },
   "file_extension": ".py",
   "mimetype": "text/x-python",
   "name": "python",
   "nbconvert_exporter": "python",
   "pygments_lexer": "ipython3",
   "version": "3.6.9"
  }
 },
 "nbformat": 4,
 "nbformat_minor": 5
}
